{
 "cells": [
  {
   "cell_type": "markdown",
   "id": "2b324c86",
   "metadata": {},
   "source": [
    "# Enunciado\n",
    "\n",
    "![ej](/Users/athinasalim/Metodos_2025/newton/imgs/ej.jpeg)\n",
    "\n"
   ]
  },
  {
   "cell_type": "code",
   "execution_count": null,
   "id": "9b9d8de7",
   "metadata": {
    "vscode": {
     "languageId": "plaintext"
    }
   },
   "outputs": [],
   "source": [
    "Arrancamos "
   ]
  }
 ],
 "metadata": {
  "language_info": {
   "name": "python"
  }
 },
 "nbformat": 4,
 "nbformat_minor": 5
}
